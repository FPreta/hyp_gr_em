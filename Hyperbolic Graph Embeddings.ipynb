{
 "cells": [
  {
   "cell_type": "code",
   "execution_count": 561,
   "metadata": {},
   "outputs": [],
   "source": [
    "from collections import defaultdict\n",
    "import numpy as np\n",
    "import math\n",
    "#graph data is represented by edges connecting vertices and having a given weight\n",
    "#vertices is a hashmap: vertices[vertex]=[edge_1,...,edge_n] of all the edges connected to a given vertex\n",
    "#edges is a hashmap: edges[edge]=(start,end)\n",
    "#weights is a hashmap: weights[edge]=weight\n",
    "class graph(object):\n",
    "    def __init__(self,vertices,edges,weights):\n",
    "        self.vertices=vertices\n",
    "        self.edges=edges\n",
    "        self.weights=weights\n",
    "        self.embed={}\n",
    "        self.degrees={}\n",
    "        self.maxdeg=0\n",
    "        self.decktransf={}\n",
    "        self.tau=0\n",
    "        self.beta=0\n",
    "    \n",
    "    def compute_degrees(self):\n",
    "        for vertex in self.vertices.keys():\n",
    "            self.degrees[vertex]=len(self.vertices[vertex])\n",
    "            if self.degrees[vertex]>self.maxdeg:\n",
    "                self.maxdeg=self.degrees[vertex]\n",
    "    \n",
    "    def compute_etamax(self):\n",
    "        beta=self.beta\n",
    "        eta=1\n",
    "        for edge in self.edges.keys():\n",
    "            start,end=self.edges[edge]\n",
    "            mustart=2*math.pi/self.degrees[start]-beta\n",
    "            muend=2*math.pi/self.degrees[end]-beta\n",
    "            mu=min(mustart,muend)\n",
    "            L=-2*math.log(math.tan(mu/2))\n",
    "            eta1=L/self.weights[edge]\n",
    "            if eta1>1:\n",
    "                eta=max(eta,eta1)\n",
    "        return eta\n",
    "            \n",
    "    def find_sep(self,epsilon,var=0.000000001): #check that we don't need eta\n",
    "        self.compute_degrees()\n",
    "        d=self.maxdeg\n",
    "        self.beta=math.pi/d\n",
    "        nu=-2*math.log(math.tan(self.beta/2))\n",
    "        tau=1\n",
    "        lowb=nu*(1+epsilon)/epsilon\n",
    "        etamax=self.compute_etamax()\n",
    "        for edge in self.edges.keys():\n",
    "            if tau*self.weights[edge]<lowb:\n",
    "                tau=max(tau,lowb/self.weights[edge])\n",
    "        self.tau=max(tau,etamax)\n",
    "    \n",
    "    def cayleytransf(self,z):\n",
    "        x,y=z\n",
    "        x0=-2*y/((1-x)**2+y**2)\n",
    "        y0=(1-x**2-y**2)/((1-x)**2+y**2)\n",
    "        return (x0,y0)\n",
    "        \n",
    "    \n",
    "    def findtransf(self,edge1,edge2): #translate everything on the upper half-plane\n",
    "        start1,end1=edge1\n",
    "        start2,end2=edge2\n",
    "        xs1,ys1=self.cayleytransf(start1) #xs,ys are the coordinates of the starting point of the edge \n",
    "        xe1,ye1=self.cayleytransf(end1)   #xe,ye are the coordinates of the endpoint of the edge\n",
    "        xs2,ys2=self.cayleytransf(start2)\n",
    "        xe2,ye2=self.cayleytransf(end2)\n",
    "        if xs1!=xe1: #we distinguish the case in which they lie on a semicircle from when they lie on a vertical axis\n",
    "            a1=(ys1**2-ye1**2)/(2*(xs1-xe1))+(xs1+xe1)/2 #a semicircle has the form (x-a)**2+y**2=c\n",
    "            c1=(xs1-a1)**2+ys1**2\n",
    "            if xs1<xe1:\n",
    "                rep1=a1-math.sqrt(c1) #for a given semicircle, the edge gives an orientation from start to end\n",
    "                att1=a1+math.sqrt(c1) #the orientation goes rep->start->end->att. rep and att are the x-coordinate\n",
    "            else:\n",
    "                rep1=a1+math.sqrt(c1)\n",
    "                att1=a1-math.sqrt(c1)\n",
    "        else: # a line has the form x=a\n",
    "            a1=xs1\n",
    "            c1=0\n",
    "            if ys1<ye1:\n",
    "                rep1=a1\n",
    "            else:\n",
    "                att1=a1\n",
    "        if xs2!=xe2:\n",
    "            a2=(ys2**2-ye2**2)/(2*(xs2-xe2))+(xs2+xe2)/2\n",
    "            c2=(xs2-a2)**2+ys2**2\n",
    "            if xs2<xe2:\n",
    "                rep2=a2-math.sqrt(c2)\n",
    "                att2=a2+math.sqrt(c2)\n",
    "            else:\n",
    "                rep2=a2+math.sqrt(c2)\n",
    "                att2=a2-math.sqrt(c2)\n",
    "        else:\n",
    "            a2=xs2\n",
    "            c2=0\n",
    "            if ys2<ye2:\n",
    "                rep2=0\n",
    "            else:\n",
    "                att2=0\n",
    "        if c1!=0:#semicircle case, we find the transformation sending the semicircle to the y axis with the right orientation and the starpoint to i\n",
    "            base1=((xs1-att1)**2+ys1**2)/((rep1-att1)*ys1)\n",
    "            mob1=np.array([[base1/math.sqrt(base1*(rep1-att1)),-base1*rep1/math.sqrt(base1*(rep1-att1))],[1/math.sqrt(base1*(rep1-att1)),-att1/math.sqrt(base1*(rep1-att1))]])\n",
    "        elif ys1<ye1: #vertical line case, we find the transformation sending the line to the y axis and the start point to i\n",
    "            mob1=np.array([[1/math.sqrt(ys1),-rep1/math.sqrt(ys1)],[0,math.sqrt(ys1)]]) \n",
    "        else:\n",
    "            mob1=np.array([[0,-math.sqrt(ys1)],[1/math.sqrt(ys1),-att1/math.sqrt(ys1)]])\n",
    "        if c2!=0:\n",
    "            base2=((xs2-att2)**2+ys2**2)/((rep2-att2)*ys2)\n",
    "            mob2=np.array([[base2/math.sqrt(base2*(rep2-att2)),-base2*rep2/math.sqrt(base2*(rep2-att2))],[1/math.sqrt(base2*(rep2-att2)),-att2/math.sqrt(base2*(rep2-att2))]])\n",
    "        elif ys2<ye2:\n",
    "            mob2=np.array([[1/math.sqrt(ys2),-rep2/math.sqrt(ys2)],[0,math.sqrt(ys2)]])\n",
    "        else:\n",
    "            mob2=np.array([[0,-math.sqrt(ys2)],[1/math.sqrt(ys2),-att2/math.sqrt(ys2)]])\n",
    "        mob2_1=np.linalg.inv(mob2) #find the inverse of the second\n",
    "        transfplane=mob2_1.dot(mob1) #multiply the first for the inverse of the second\n",
    "        #print('errors on first vertex:',self.transform(transfplane,(xs1,ys1))[0]-xs2,self.transform(transfplane,(xs1,ys1))[1]-ys2)\n",
    "        #print('errors on second vertex:',self.transform(transfplane,(xe1,ye1))[0]-xe2,self.transform(transfplane,(xe1,ye1))[1]-ye2)\n",
    "        cayley=np.array([[1,-1j],[1,1j]])\n",
    "        cayley_inv=np.array([[-1j,-1j],[1,-1]])\n",
    "        final=cayley.dot(transfplane.dot(cayley_inv))#send back to the disk model\n",
    "        #print('errors on first vertex:',self.transform(final,start1)[0]-start2[0],self.transform(final,start1)[1]-start2[1])\n",
    "        #print('errors on second vertex:',self.transform(final,end1)[0]-end2[0],self.transform(final,end1)[1]-end2[1])\n",
    "\n",
    "        return final\n",
    "    \n",
    "    def transform(self,mob,point):\n",
    "        z=point[0]+1j*point[1]\n",
    "        num=mob[0,0]*z+mob[0,1]\n",
    "        den=mob[1,0]*z+mob[1,1]\n",
    "        return (np.real(num/den),np.imag(num/den))\n",
    "    \n",
    "    def hypdistance(self,a,b):\n",
    "        a_x,a_y=a\n",
    "        b_x,b_y=b\n",
    "        anorm2=a_x**2+a_y**2\n",
    "        bnorm2=b_x**2+b_y**2\n",
    "        difnorm2=(a_x-b_x)**2+(a_y-b_y)**2\n",
    "        delta=(2*difnorm2)/((1-anorm2)*(1-bnorm2))\n",
    "        dist=np.arccosh(1+delta)\n",
    "        return dist\n",
    "        \n",
    "    \n",
    "    def calculate_distance(self,point0,point1):\n",
    "        a=self.embed[point0]\n",
    "        b=self.embed[point1]\n",
    "        dist=self.hypdistance(a,b)\n",
    "        for edge in self.decktransf.keys():\n",
    "            a1=self.transform(self.decktransf[edge],a)\n",
    "            a2=self.transform(np.linalg.inv(self.decktransf[edge]),a)\n",
    "            newdist1=self.hypdistance(a1,b)\n",
    "            newdist2=self.hypdistance(a2,b)\n",
    "            if min(newdist1,newdist2)<dist:\n",
    "                dist=min(newdist1,newdist2)\n",
    "        return dist/self.tau        \n",
    "    \n",
    "    def hypembed(self,start,epsilon): \n",
    "        self.find_sep(epsilon)\n",
    "        beta=self.beta\n",
    "        tau=self.tau\n",
    "        print(beta,tau)\n",
    "        queue=[(start,None)]\n",
    "        pairings={}\n",
    "        while queue:\n",
    "            point,parent=queue[0]\n",
    "            if parent==None: #during the first iteration, we embed the starting point in (0,0) \n",
    "                self.embed[point]=(0,0)\n",
    "                angle=0 #initialize the angle\n",
    "                degree=self.degrees[point]\n",
    "                alpha=2*math.pi/degree-beta \n",
    "                i=0\n",
    "                for edge in self.vertices[point]:\n",
    "                    r=self.weights[edge]*tau\n",
    "                    hypr=math.tanh(r/2) #length of a given edge\n",
    "                    for vertex in self.edges[edge]: #if the endpoint hasn't been embedded, embed it\n",
    "                        if vertex!=point:\n",
    "                            if vertex not in self.embed.keys():\n",
    "                                self.embed[vertex]=(hypr*math.cos(angle),hypr*math.sin(angle)) \n",
    "                                queue.append((vertex,edge)) #save the parent edge\n",
    "                            elif edge not in pairings.keys(): #if the endpoint has been embedded, but the edge hasn't, save the edge\n",
    "                                pairings[edge]=((0,0),(hypr*math.cos(angle),hypr*math.sin(angle)))\n",
    "                            elif edge not in self.decktransf.keys(): #if the edge has been embedded, find the transformation\n",
    "                                self.decktransf[edge]=self.findtransf(pairings[edge],((0,0),(hypr*math.cos(angle),hypr*math.sin(angle))))\n",
    "                    i+=1\n",
    "                    angle=((2*i)/degree)*math.pi\n",
    "            else: #now we have saved the parent edge\n",
    "                point1,point2=self.edges[parent]\n",
    "                degree=self.degrees[point]\n",
    "                alpha=2*math.pi/degree-2*beta\n",
    "                if point1!=point:\n",
    "                    parentpoint=point1\n",
    "                else:\n",
    "                    parentpoint=point2\n",
    "                r0=self.weights[parent]*tau\n",
    "                hypr0=math.tanh(r0/2)\n",
    "                mob=self.findtransf((self.embed[parentpoint],self.embed[point]),((hypr0,0),(0,0)))\n",
    "                mob_inv=np.linalg.inv(mob)\n",
    "                angle=alpha+beta\n",
    "                i=1\n",
    "                angle=((2*i)/degree)*math.pi\n",
    "                for edge in self.vertices[point]:\n",
    "                    if edge!=parent:\n",
    "                        r=self.weights[edge]*tau\n",
    "                        hypr=math.tanh(r/2)\n",
    "                        for vertex in self.edges[edge]:\n",
    "                            if vertex!=point:\n",
    "                                if vertex not in self.embed.keys():\n",
    "                                    self.embed[vertex]=self.transform(mob_inv,(hypr*math.cos(angle),hypr*math.sin(angle)))\n",
    "                                    queue.append((vertex,edge))\n",
    "                                elif edge not in pairings.keys():\n",
    "                                    newcoord=self.transform(mob_inv,(hypr*math.cos(angle),hypr*math.sin(angle)))\n",
    "                                    pairings[edge]=(self.embed[point],newcoord)\n",
    "                                elif edge not in self.decktransf.keys():\n",
    "                                    newcoord=self.transform(mob_inv,(hypr*math.cos(angle),hypr*math.sin(angle)))\n",
    "                                    self.decktransf[edge]=self.findtransf(pairings[edge],(newcoord,self.embed[point]))\n",
    "                        i+=1\n",
    "                        angle=((2*i)/degree)*math.pi\n",
    "            del queue[0]\n",
    "            \n",
    "                        \n",
    "                \n",
    "        \n",
    "            \n",
    "        "
   ]
  },
  {
   "cell_type": "code",
   "execution_count": 562,
   "metadata": {},
   "outputs": [],
   "source": [
    "vertices={'A':['AB','AC'],'B':['AB','BC'],'C':['AC','BC']}\n",
    "edges={'AB':('A','B'),'AC':('A','C'),'BC':('B','C')}\n",
    "weights={'AB':1,'AC':1,'BC':1}"
   ]
  },
  {
   "cell_type": "code",
   "execution_count": 563,
   "metadata": {},
   "outputs": [],
   "source": [
    "trigraph=graph(vertices,edges,weights)"
   ]
  },
  {
   "cell_type": "code",
   "execution_count": 564,
   "metadata": {},
   "outputs": [
    {
     "name": "stdout",
     "output_type": "stream",
     "text": [
      "{'A': 2, 'B': 2, 'C': 2}\n"
     ]
    }
   ],
   "source": [
    "trigraph.compute_degrees()\n",
    "print(trigraph.degrees)"
   ]
  },
  {
   "cell_type": "code",
   "execution_count": 565,
   "metadata": {},
   "outputs": [
    {
     "name": "stdout",
     "output_type": "stream",
     "text": [
      "1.5707963267948966 1\n",
      "1 0.46211715726000974\n",
      "1 0.46211715726000974\n"
     ]
    }
   ],
   "source": [
    "trigraph.hypembed('A',1)"
   ]
  },
  {
   "cell_type": "code",
   "execution_count": 566,
   "metadata": {},
   "outputs": [
    {
     "name": "stdout",
     "output_type": "stream",
     "text": [
      "{'A': (0, 0), 'B': (0.46211715726000974, 0.0), 'C': (-0.46211715726000974, 5.65930297469545e-17)} {'BC': array([[-1.66909298e-16+4.70481923j, -1.66909298e-16-4.25855891j],\n",
      "       [ 1.66909298e-16-4.25855891j,  1.66909298e-16+4.70481923j]])}\n"
     ]
    }
   ],
   "source": [
    "print(trigraph.embed,trigraph.decktransf)"
   ]
  },
  {
   "cell_type": "code",
   "execution_count": 567,
   "metadata": {},
   "outputs": [
    {
     "name": "stdout",
     "output_type": "stream",
     "text": [
      "0.9999999999999997\n"
     ]
    }
   ],
   "source": [
    "print(trigraph.calculate_distance('B','C'))"
   ]
  },
  {
   "cell_type": "code",
   "execution_count": 568,
   "metadata": {},
   "outputs": [],
   "source": [
    "k33vertices={'1':['12','13','16'],'2':['12','24','25'],'3':['13','34','35'],'4':['24','34','46'],'5':['35','25','56'],'6':['16','46','56']}\n",
    "k33edges={'12':('1','2'),'13':('1','3'),'16':('1','6'),'24':('2','4'),'25':('2','5'),'34':('3','4'),'35':('3','5'),'46':('4','6'),'56':('5','6')}\n",
    "k33weights={'12':1,'13':1,'16':1,'24':1,'25':1,'34':1,'35':1,'46':1,'56':1}"
   ]
  },
  {
   "cell_type": "code",
   "execution_count": 569,
   "metadata": {},
   "outputs": [],
   "source": [
    "k33graph=graph(k33vertices,k33edges,k33weights)"
   ]
  },
  {
   "cell_type": "code",
   "execution_count": 590,
   "metadata": {},
   "outputs": [
    {
     "name": "stdout",
     "output_type": "stream",
     "text": [
      "1.0471975511965976 12.084735175349213\n",
      "12.084735175349213 0.9999887100051934\n",
      "12.084735175349213 0.9999887100051934\n",
      "12.084735175349213 0.9999887100051934\n"
     ]
    }
   ],
   "source": [
    "k33graph.hypembed('1',0.1)"
   ]
  },
  {
   "cell_type": "code",
   "execution_count": 594,
   "metadata": {},
   "outputs": [
    {
     "name": "stdout",
     "output_type": "stream",
     "text": [
      "{'1': (0, 0), '2': (0.8000000000000002, 0.0), '3': (-0.3999999999999999, 0.6928203230275511), '6': (-0.4000000000000004, -0.6928203230275508), '4': (0.9601873536299768, -0.12168975228821136), '5': (0.9601873536299769, 0.1216897522882113)} {'34': array([[-25.66001196+46.44444444j,  32.07501495+42.22222222j],\n",
      "       [-32.07501495+42.22222222j,  25.66001196+46.44444444j]]), '46': array([[-25.66001196-46.44444444j,  20.52800957-48.88888889j],\n",
      "       [-20.52800957-48.88888889j,  25.66001196-46.44444444j]]), '35': array([[ 25.66001196-46.44444444j, -20.52800957-48.88888889j],\n",
      "       [ 20.52800957-48.88888889j, -25.66001196-46.44444444j]]), '56': array([[ 25.66001196+46.44444444j, -32.07501495+42.22222222j],\n",
      "       [ 32.07501495+42.22222222j, -25.66001196+46.44444444j]])}\n"
     ]
    }
   ],
   "source": [
    "print(k33graph.embed,k33graph.decktransf)"
   ]
  },
  {
   "cell_type": "code",
   "execution_count": 595,
   "metadata": {},
   "outputs": [
    {
     "name": "stdout",
     "output_type": "stream",
     "text": [
      "0.18181818181818177\n"
     ]
    }
   ],
   "source": [
    "print(k33graph.calculate_distance('1','2'))"
   ]
  },
  {
   "cell_type": "code",
   "execution_count": null,
   "metadata": {},
   "outputs": [],
   "source": []
  }
 ],
 "metadata": {
  "kernelspec": {
   "display_name": "Python 3",
   "language": "python",
   "name": "python3"
  },
  "language_info": {
   "codemirror_mode": {
    "name": "ipython",
    "version": 3
   },
   "file_extension": ".py",
   "mimetype": "text/x-python",
   "name": "python",
   "nbconvert_exporter": "python",
   "pygments_lexer": "ipython3",
   "version": "3.6.8"
  }
 },
 "nbformat": 4,
 "nbformat_minor": 2
}
